{
 "cells": [
  {
   "cell_type": "markdown",
   "metadata": {},
   "source": [
    "# Necessary Imports"
   ]
  },
  {
   "cell_type": "code",
   "execution_count": 1,
   "metadata": {},
   "outputs": [],
   "source": [
    "# necessary imports\n",
    "import numpy as np                # use for array and matrix stuff\n",
    "import pandas as pd               # use for dataframes, think of it as excel\n",
    "import math\n",
    "import matplotlib.pyplot as plt   # use to make graphs"
   ]
  },
  {
   "cell_type": "code",
   "execution_count": 3,
   "metadata": {},
   "outputs": [],
   "source": [
    "# Download the CSV file from Google Cloud Storage\n",
    "# Reference the path when importing the file to a dataframe\n",
    "csv_file_location = \"C:\\\\Users\\\\Kha\\\\Documents\\\\Programming\\\\SYDE2023_Class_Profile\\\\csv\\\\final\\\\split\\\\household.csv\"\n",
    "df_name = pd.read_csv(csv_file_location)"
   ]
  },
  {
   "cell_type": "markdown",
   "metadata": {},
   "source": [
    "# Exploratory Setup"
   ]
  },
  {
   "cell_type": "code",
   "execution_count": 5,
   "metadata": {},
   "outputs": [
    {
     "data": {
      "text/html": [
       "<div>\n",
       "<style scoped>\n",
       "    .dataframe tbody tr th:only-of-type {\n",
       "        vertical-align: middle;\n",
       "    }\n",
       "\n",
       "    .dataframe tbody tr th {\n",
       "        vertical-align: top;\n",
       "    }\n",
       "\n",
       "    .dataframe thead th {\n",
       "        text-align: right;\n",
       "    }\n",
       "</style>\n",
       "<table border=\"1\" class=\"dataframe\">\n",
       "  <thead>\n",
       "    <tr style=\"text-align: right;\">\n",
       "      <th></th>\n",
       "      <th>uid</th>\n",
       "      <th>gen_immigration</th>\n",
       "      <th>household_income</th>\n",
       "      <th>edu_parents</th>\n",
       "      <th>stem_edu_parents</th>\n",
       "      <th>eng_parents</th>\n",
       "      <th>siblings</th>\n",
       "    </tr>\n",
       "  </thead>\n",
       "  <tbody>\n",
       "    <tr>\n",
       "      <th>0</th>\n",
       "      <td>808666</td>\n",
       "      <td>Second Generation</td>\n",
       "      <td>$50 001 - $75 000</td>\n",
       "      <td>Diploma</td>\n",
       "      <td>No</td>\n",
       "      <td>No</td>\n",
       "      <td>2.0</td>\n",
       "    </tr>\n",
       "    <tr>\n",
       "      <th>1</th>\n",
       "      <td>693735</td>\n",
       "      <td>1.5 Generation</td>\n",
       "      <td>$25 001 - $50 000</td>\n",
       "      <td>Bachelor's Degree</td>\n",
       "      <td>No</td>\n",
       "      <td>No</td>\n",
       "      <td>1.0</td>\n",
       "    </tr>\n",
       "    <tr>\n",
       "      <th>2</th>\n",
       "      <td>12234</td>\n",
       "      <td>Second Generation</td>\n",
       "      <td>$1 - $25 000</td>\n",
       "      <td>Associate's Degree</td>\n",
       "      <td>Yes</td>\n",
       "      <td>Yes</td>\n",
       "      <td>1.0</td>\n",
       "    </tr>\n",
       "    <tr>\n",
       "      <th>3</th>\n",
       "      <td>174664</td>\n",
       "      <td>1.5 Generation</td>\n",
       "      <td>$250 001 - $300 000</td>\n",
       "      <td>Master's Degree</td>\n",
       "      <td>Yes</td>\n",
       "      <td>Yes</td>\n",
       "      <td>1.0</td>\n",
       "    </tr>\n",
       "    <tr>\n",
       "      <th>4</th>\n",
       "      <td>651509</td>\n",
       "      <td>Second Generation</td>\n",
       "      <td>$300 000 +</td>\n",
       "      <td>Professional Degree (JD, MD, etc.)</td>\n",
       "      <td>Yes</td>\n",
       "      <td>No</td>\n",
       "      <td>1.0</td>\n",
       "    </tr>\n",
       "  </tbody>\n",
       "</table>\n",
       "</div>"
      ],
      "text/plain": [
       "      uid    gen_immigration     household_income  \\\n",
       "0  808666  Second Generation    $50 001 - $75 000   \n",
       "1  693735     1.5 Generation    $25 001 - $50 000   \n",
       "2   12234  Second Generation         $1 - $25 000   \n",
       "3  174664     1.5 Generation  $250 001 - $300 000   \n",
       "4  651509  Second Generation           $300 000 +   \n",
       "\n",
       "                          edu_parents stem_edu_parents eng_parents  siblings  \n",
       "0                             Diploma               No          No       2.0  \n",
       "1                   Bachelor's Degree               No          No       1.0  \n",
       "2                  Associate's Degree              Yes         Yes       1.0  \n",
       "3                     Master's Degree              Yes         Yes       1.0  \n",
       "4  Professional Degree (JD, MD, etc.)              Yes          No       1.0  "
      ]
     },
     "execution_count": 5,
     "metadata": {},
     "output_type": "execute_result"
    }
   ],
   "source": [
    "# view the dataframe\n",
    "df_name.head()\n",
    "\n",
    "# use the SYDE Profile Question Mapping google sheet to know what the columns mean"
   ]
  },
  {
   "cell_type": "code",
   "execution_count": 8,
   "metadata": {},
   "outputs": [
    {
     "data": {
      "text/plain": [
       "['uid',\n",
       " 'gen_immigration',\n",
       " 'household_income',\n",
       " 'edu_parents',\n",
       " 'stem_edu_parents',\n",
       " 'eng_parents',\n",
       " 'siblings']"
      ]
     },
     "execution_count": 8,
     "metadata": {},
     "output_type": "execute_result"
    }
   ],
   "source": [
    "# If df.head() doesn't show all columns, use this to see all columns\n",
    "\n",
    "df_name.columns.to_list()"
   ]
  },
  {
   "cell_type": "code",
   "execution_count": 9,
   "metadata": {},
   "outputs": [
    {
     "data": {
      "text/html": [
       "<div>\n",
       "<style scoped>\n",
       "    .dataframe tbody tr th:only-of-type {\n",
       "        vertical-align: middle;\n",
       "    }\n",
       "\n",
       "    .dataframe tbody tr th {\n",
       "        vertical-align: top;\n",
       "    }\n",
       "\n",
       "    .dataframe thead th {\n",
       "        text-align: right;\n",
       "    }\n",
       "</style>\n",
       "<table border=\"1\" class=\"dataframe\">\n",
       "  <thead>\n",
       "    <tr style=\"text-align: right;\">\n",
       "      <th></th>\n",
       "      <th>uid</th>\n",
       "      <th>siblings</th>\n",
       "    </tr>\n",
       "  </thead>\n",
       "  <tbody>\n",
       "    <tr>\n",
       "      <th>count</th>\n",
       "      <td>67.000000</td>\n",
       "      <td>66.000000</td>\n",
       "    </tr>\n",
       "    <tr>\n",
       "      <th>mean</th>\n",
       "      <td>486065.686567</td>\n",
       "      <td>1.393939</td>\n",
       "    </tr>\n",
       "    <tr>\n",
       "      <th>std</th>\n",
       "      <td>279560.256239</td>\n",
       "      <td>0.942644</td>\n",
       "    </tr>\n",
       "    <tr>\n",
       "      <th>min</th>\n",
       "      <td>12234.000000</td>\n",
       "      <td>0.000000</td>\n",
       "    </tr>\n",
       "    <tr>\n",
       "      <th>25%</th>\n",
       "      <td>229010.000000</td>\n",
       "      <td>1.000000</td>\n",
       "    </tr>\n",
       "    <tr>\n",
       "      <th>50%</th>\n",
       "      <td>528593.000000</td>\n",
       "      <td>1.000000</td>\n",
       "    </tr>\n",
       "    <tr>\n",
       "      <th>75%</th>\n",
       "      <td>696746.500000</td>\n",
       "      <td>2.000000</td>\n",
       "    </tr>\n",
       "    <tr>\n",
       "      <th>max</th>\n",
       "      <td>978435.000000</td>\n",
       "      <td>6.000000</td>\n",
       "    </tr>\n",
       "  </tbody>\n",
       "</table>\n",
       "</div>"
      ],
      "text/plain": [
       "                 uid   siblings\n",
       "count      67.000000  66.000000\n",
       "mean   486065.686567   1.393939\n",
       "std    279560.256239   0.942644\n",
       "min     12234.000000   0.000000\n",
       "25%    229010.000000   1.000000\n",
       "50%    528593.000000   1.000000\n",
       "75%    696746.500000   2.000000\n",
       "max    978435.000000   6.000000"
      ]
     },
     "execution_count": 9,
     "metadata": {},
     "output_type": "execute_result"
    }
   ],
   "source": [
    "# Get some more information on the dataframe\n",
    "df_name.describe()"
   ]
  },
  {
   "cell_type": "code",
   "execution_count": 11,
   "metadata": {},
   "outputs": [
    {
     "name": "stdout",
     "output_type": "stream",
     "text": [
      "<class 'pandas.core.frame.DataFrame'>\n",
      "RangeIndex: 67 entries, 0 to 66\n",
      "Data columns (total 7 columns):\n",
      " #   Column            Non-Null Count  Dtype  \n",
      "---  ------            --------------  -----  \n",
      " 0   uid               67 non-null     int64  \n",
      " 1   gen_immigration   66 non-null     object \n",
      " 2   household_income  66 non-null     object \n",
      " 3   edu_parents       67 non-null     object \n",
      " 4   stem_edu_parents  67 non-null     object \n",
      " 5   eng_parents       67 non-null     object \n",
      " 6   siblings          66 non-null     float64\n",
      "dtypes: float64(1), int64(1), object(5)\n",
      "memory usage: 3.8+ KB\n"
     ]
    }
   ],
   "source": [
    "df_name.info()"
   ]
  },
  {
   "cell_type": "code",
   "execution_count": 10,
   "metadata": {},
   "outputs": [
    {
     "data": {
      "text/plain": [
       "uid                 67\n",
       "gen_immigration     66\n",
       "household_income    66\n",
       "edu_parents         67\n",
       "stem_edu_parents    67\n",
       "eng_parents         67\n",
       "siblings            66\n",
       "dtype: int64"
      ]
     },
     "execution_count": 10,
     "metadata": {},
     "output_type": "execute_result"
    }
   ],
   "source": [
    "# This is to check how many nulls there are - you will want to drop nulls later\n",
    "df_name.count()"
   ]
  },
  {
   "cell_type": "code",
   "execution_count": 20,
   "metadata": {},
   "outputs": [
    {
     "data": {
      "text/plain": [
       "0    Second Generation\n",
       "1       1.5 Generation\n",
       "2    Second Generation\n",
       "3       1.5 Generation\n",
       "4    Second Generation\n",
       "Name: gen_immigration, dtype: object"
      ]
     },
     "execution_count": 20,
     "metadata": {},
     "output_type": "execute_result"
    }
   ],
   "source": [
    "# Create the working series (this is only for a single column, scroll down for multi columns)\n",
    "\n",
    "df_gen_immigration = df_name['gen_immigration']\n",
    "df_gen_immigration.head()\n",
    "\n",
    "# For multiple columns - create a smaller dataframe (uid and gen_immigration)\n",
    "# df_gen_immigration_df = df_name[['uid', 'gen_immigration']]"
   ]
  },
  {
   "cell_type": "code",
   "execution_count": 34,
   "metadata": {},
   "outputs": [
    {
     "data": {
      "text/plain": [
       "(66,)"
      ]
     },
     "execution_count": 34,
     "metadata": {},
     "output_type": "execute_result"
    }
   ],
   "source": [
    "# Drop nulls\n",
    "df_gen_immigration = df_gen_immigration.dropna()\n",
    "df_gen_immigration.shape"
   ]
  },
  {
   "cell_type": "markdown",
   "metadata": {},
   "source": [
    "#### I have an old python file that I wrote for making graphs for the previous covid class profile. I will link how to use it here"
   ]
  },
  {
   "cell_type": "markdown",
   "metadata": {},
   "source": [
    "# To use the graphs.py file, you need to make a jupyter notebook file in the ./graph_generation/ folder and then do this\n",
    "\n",
    "import graphs\n",
    "\n",
    "graphs.create_bar(...)\n",
    "\n",
    "graphs.create_pie(...)\n",
    "\n",
    "graphs.create_scatter(...)"
   ]
  },
  {
   "cell_type": "code",
   "execution_count": 85,
   "metadata": {},
   "outputs": [],
   "source": [
    "import pandas as pd\n",
    "import matplotlib.pyplot as plt\n",
    "import seaborn as sns\n",
    "import numpy as np\n",
    "import math\n",
    "from collections import Counter\n",
    "# import helpers\n",
    "\n",
    "def create_bar(\n",
    "    df, # pandas Series or pandas DataFrame\n",
    "    column_name: str, # name of column in dataframe\n",
    "    title_label: str, # x axis label (vertical)\n",
    "    values_label : str, # y axis label (vertical)\n",
    "    title: str, # title of graph\n",
    "    vertical: bool, # True for vertical bars, False for horizontal bars\n",
    "    values_increment: float = None, # default 1/10 of the max value in the y axis / count of dataframe\n",
    "    values_max: float = None, # the max value in the dataframe\n",
    "    splice_required: bool = False, # Use True if the values in the cells have commas that need to be split\n",
    "    labels: list = [], # order in which the labels should be arranged\n",
    "    colours = [], # list of strings of hexcodes ['#0000FF', '#eb884a']\n",
    "    display_as_percentage = False,\n",
    "    display_legend = False,\n",
    "    rotation_angle = 0\n",
    "):    \n",
    "    # Set default colour palette\n",
    "    if (not colours):\n",
    "        colours = sns.color_palette('muted')\n",
    "    \n",
    "    # drop nulls (technically you should have already dropped them)\n",
    "    if(df[column_name].isnull().values.any()):\n",
    "        df = df.dropna(axis=0)\n",
    "        \n",
    "    ######################\n",
    "    ## Count the amount of instances of each occurence in the dataset\n",
    "    count = Counter()\n",
    "    if(splice_required):\n",
    "        column_values = helpers.splice_cells_with_commas(df, column_name)\n",
    "        for i in column_values:\n",
    "            count[i] += 1\n",
    "    else:\n",
    "        for value in df[column_name]:\n",
    "            count[value] += 1 \n",
    "        \n",
    "     ######################\n",
    "    ## Put the counted values into a new dataframe\n",
    "    \n",
    "    if(labels):\n",
    "        title_temp = list(count.keys())\n",
    "        values_temp = list(count.values())\n",
    "        dictionary = {title_temp[i] : values_temp[i] for i in range(0, len(title_temp))}\n",
    "\n",
    "        df_temp = pd.DataFrame()\n",
    "        df_temp['title'] = labels\n",
    "        df_temp['values'] = 0\n",
    "\n",
    "        for key, value in dictionary.items():\n",
    "            df_temp.loc[df_temp.title == key, 'values'] = value\n",
    "        x = np.arange(len(labels))  # the label locations\n",
    "    \n",
    "    else:\n",
    "        df_temp = pd.DataFrame({'title': list(count.keys()), 'values': list(count.values())})\n",
    "        x = df_temp['title']\n",
    "        \n",
    "    ######################\n",
    "    ## Convert amount of people responded into percentages\n",
    "    if(display_as_percentage):\n",
    "        number_of_answers = len(df.index)\n",
    "        df_temp['values'] = df_temp['values'] / number_of_answers * 100\n",
    "    \n",
    "    ###################\n",
    "    ## Set axis interval increments\n",
    "    \n",
    "    if(not values_max):\n",
    "        values_max = max(df_temp['values'])\n",
    "        \n",
    "    if(not values_increment):\n",
    "        values_increment = math.ceil(values_max / 10)\n",
    "\n",
    "    fig, ax = plt.subplots(figsize = (11,9))\n",
    "    \n",
    "    if(vertical):\n",
    "        ax.bar(\n",
    "            x = x,\n",
    "            height = df_temp['values'],\n",
    "            align = 'center',\n",
    "            zorder = 3,\n",
    "            color = colours,\n",
    "            label = column_name,\n",
    "            alpha = 0.75,\n",
    "        )\n",
    "        ax.set_xlabel(title_label)\n",
    "        ax.set_ylabel(values_label)\n",
    "        ax.yaxis.set_ticks(np.arange(0, values_max, values_increment))\n",
    "        if(labels):\n",
    "            ax.set_xticks(x)\n",
    "            ax.set_xticklabels(labels)\n",
    "        plt.xticks(rotation=rotation_angle, ha='right')\n",
    "    else:\n",
    "        ax.barh(\n",
    "            y = x,\n",
    "            width = df_temp['values'],\n",
    "            align = 'center',\n",
    "            zorder = 3,\n",
    "            color = colours,\n",
    "            label = column_name,\n",
    "            alpha = 0.75,\n",
    "\n",
    "        )\n",
    "        ax.set_xlabel(values_label)\n",
    "        ax.set_ylabel(title_label)\n",
    "        ax.xaxis.set_ticks(np.arange(0, values_max, values_increment))\n",
    "        if(labels):\n",
    "            ax.set_yticks(x)\n",
    "            ax.set_yticklabels(labels)\n",
    "        plt.xticks(rotation=rotation_angle, ha='right')\n",
    "    \n",
    "    plt.rcParams['axes.facecolor'] = '#F0F0F0'\n",
    "    ax.grid(color='w', linestyle='solid', zorder=0)\n",
    "    if(display_legend):\n",
    "        plt.legend(title=\"Legend\", facecolor='white')\n",
    "    plt.title(title)\n",
    "#     plt.savefig('./graphs/' + str(column_name) + '.png')\n",
    "#     plt.close()\n",
    "\n",
    "def create_pie( \n",
    "    df, # your smaller pandas dataframe\n",
    "    column_name, # column name in the dataframe\n",
    "    title, # title of the pie chart\n",
    "    labels = [] # labels for the legend to follow in specific order\n",
    "): \n",
    "    count = Counter()\n",
    "    \n",
    "    if(df[column_name].isnull().values.any()):\n",
    "        df = df.dropna(axis=0)\n",
    "\n",
    "    for value in df[column_name]:\n",
    "        count[value] += 1\n",
    "        \n",
    "    if(labels):\n",
    "        title_temp = list(count.keys())\n",
    "        values_temp = list(count.values())\n",
    "        dictionary = {title_temp[i] : values_temp[i] for i in range(0, len(title_temp))}\n",
    "\n",
    "        df_temp = pd.DataFrame()\n",
    "        df_temp['title'] = labels\n",
    "        df_temp['values'] = 0\n",
    "\n",
    "        for key, value in dictionary.items():\n",
    "            df_temp.loc[df_temp.title == key, 'values'] = value\n",
    "    else:\n",
    "        df_temp = pd.DataFrame({'title': list(count.keys()), 'values': list(count.values())})\n",
    "        df_temp = df_temp.sort_values(by=['values'], ascending = False)\n",
    "    \n",
    "    fig = plt.figure(figsize = (11,9))\n",
    "    plt.pie(\n",
    "        x = df_temp['values'],\n",
    "        labels = df_temp['title'],\n",
    "        autopct = '%1.1f%%',\n",
    "        startangle = 90,\n",
    "        labeldistance = None,\n",
    "       )\n",
    "    \n",
    "    plt.title(label = title)\n",
    "    plt.legend(df_temp['title'], title='Legend')\n",
    "    plt.axis('equal')\n",
    "#     plt.savefig('./graphs/' + str(column_name) + '.png')\n",
    "    plt.close()\n",
    "\n",
    "def create_scatter(\n",
    "    df,\n",
    "    x_column_name,\n",
    "    y_column_name,\n",
    "    title,\n",
    "    x_axis_label = None,\n",
    "    y_axis_label = None,\n",
    "    x_axis_values: list = []\n",
    "): \n",
    "    df_temp = pd.DataFrame({x_column_name: df[x_column_name], y_column_name: df[y_column_name]})\n",
    "    if(x_axis_values):\n",
    "        df_temp = df_temp.sort_values(by=[x_axis_values])\n",
    "    else:\n",
    "        df_temp = df_temp.sort_values(by=[x_column_name], ascending=True)\n",
    "    \n",
    "    plt.figure(figsize = (11,9))\n",
    "    plt.scatter(\n",
    "        x = df_temp[x_column_name],\n",
    "        y = df_temp[y_column_name],\n",
    "    )\n",
    "    plt.title(label = title)\n",
    "    plt.grid()\n",
    "    if(not x_axis_label):\n",
    "        plt.xlabel(x_column_name)\n",
    "    else:\n",
    "        plt.xlabel(x_axis_label)\n",
    "        \n",
    "    if(not y_axis_label):\n",
    "        plt.ylabel(y_column_name)\n",
    "    else:\n",
    "        plt.ylabel(y_axis_label)\n",
    "\n",
    "#     plt.savefig('./graphs/' + str(x_column_name) + ' vs ' + str(y_column_name) + '.png')\n",
    "    plt.close()"
   ]
  },
  {
   "cell_type": "code",
   "execution_count": 90,
   "metadata": {},
   "outputs": [
    {
     "data": {
      "image/png": "[encoded data removed]",
      "text/plain": [
       "<Figure size 792x648 with 1 Axes>"
      ]
     },
     "metadata": {
      "needs_background": "light"
     },
     "output_type": "display_data"
    }
   ],
   "source": [
    "df_edu_parents = df_name[['uid', 'edu_parents']]\n",
    "create_bar(\n",
    "    df_edu_parents,\n",
    "    column_name = 'edu_parents',\n",
    "    title_label = 'Highest Level of Education of Parents',\n",
    "    values_label = 'Percentage of SYDE students',\n",
    "    title = 'Highest Level of Education of Parents in SYDE',\n",
    "    vertical = True,\n",
    "    rotation_angle = 45,\n",
    "    labels = ['Less than high school', 'High school diploma or equivalent', 'Diploma', \"Associate's Degree\", \"Bachelor's Degree\", \"Master's Degree\", \"Doctoral Degree (PhD)\", \"Professional Degree (JD, MD, etc.)\"]\n",
    ")"
   ]
  },
  {
   "cell_type": "code",
   "execution_count": null,
   "metadata": {},
   "outputs": [],
   "source": []
  }
 ],
 "metadata": {
  "kernelspec": {
   "display_name": "Python 3",
   "language": "python",
   "name": "python3"
  },
  "language_info": {
   "codemirror_mode": {
    "name": "ipython",
    "version": 3
   },
   "file_extension": ".py",
   "mimetype": "text/x-python",
   "name": "python",
   "nbconvert_exporter": "python",
   "pygments_lexer": "ipython3",
   "version": "3.8.3"
  }
 },
 "nbformat": 4,
 "nbformat_minor": 4
}
